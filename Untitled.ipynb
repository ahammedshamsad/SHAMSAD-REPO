{
 "cells": [
  {
   "cell_type": "code",
   "execution_count": 2,
   "id": "b0508462",
   "metadata": {},
   "outputs": [
    {
     "data": {
      "text/plain": [
       "45"
      ]
     },
     "execution_count": 2,
     "metadata": {},
     "output_type": "execute_result"
    }
   ],
   "source": [
    "40+5\n"
   ]
  },
  {
   "cell_type": "code",
   "execution_count": null,
   "id": "2283fbec",
   "metadata": {},
   "outputs": [],
   "source": [
    "shamsad=10"
   ]
  },
  {
   "cell_type": "code",
   "execution_count": 3,
   "id": "cc62faa4",
   "metadata": {},
   "outputs": [],
   "source": [
    "import turtle as t"
   ]
  },
  {
   "cell_type": "code",
   "execution_count": null,
   "id": "72659040",
   "metadata": {},
   "outputs": [],
   "source": [
    "navajith=20"
   ]
  },
  {
   "cell_type": "code",
   "execution_count": 6,
   "id": "b3efc7fb",
   "metadata": {},
   "outputs": [
    {
     "data": {
      "text/plain": [
       "30"
      ]
     },
     "execution_count": 6,
     "metadata": {},
     "output_type": "execute_result"
    }
   ],
   "source": [
    "shamsad=20\n",
    "navajith=10\n",
    "shamsad+navajith"
   ]
  },
  {
   "cell_type": "markdown",
   "id": "e0b0e0bd",
   "metadata": {},
   "source": [
    "## shamsad"
   ]
  },
  {
   "cell_type": "code",
   "execution_count": null,
   "id": "b6314fce",
   "metadata": {},
   "outputs": [],
   "source": []
  }
 ],
 "metadata": {
  "kernelspec": {
   "display_name": "Python 3 (ipykernel)",
   "language": "python",
   "name": "python3"
  },
  "language_info": {
   "codemirror_mode": {
    "name": "ipython",
    "version": 3
   },
   "file_extension": ".py",
   "mimetype": "text/x-python",
   "name": "python",
   "nbconvert_exporter": "python",
   "pygments_lexer": "ipython3",
   "version": "3.11.3"
  }
 },
 "nbformat": 4,
 "nbformat_minor": 5
}
